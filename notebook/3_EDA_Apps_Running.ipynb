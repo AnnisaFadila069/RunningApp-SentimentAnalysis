{
 "cells": [
  {
   "cell_type": "code",
   "execution_count": null,
   "metadata": {},
   "outputs": [],
   "source": [
    "# import matplotlib.pyplot as plt\n",
    "# from wordcloud import WordCloud\n",
    "\n",
    "# # Gabungkan semua token menjadi satu teks\n",
    "# all_words = \" \".join([\" \".join(tokens) for tokens in df[\"tokens_rare_removed\"]])\n",
    "\n",
    "# # Buat WordCloud\n",
    "# wordcloud = WordCloud(\n",
    "#     width=800, height=400, background_color=\"white\", colormap=\"viridis\"\n",
    "# ).generate(all_words)\n",
    "\n",
    "# # Tampilkan WordCloud\n",
    "# plt.figure(figsize=(10, 5))\n",
    "# plt.imshow(wordcloud, interpolation=\"bilinear\")\n",
    "# plt.axis(\"off\")  # Hilangkan sumbu\n",
    "# plt.title(\"WordCloud dari Review yang Telah Dibersihkan\")\n",
    "# plt.show()"
   ]
  }
 ],
 "metadata": {
  "language_info": {
   "name": "python"
  }
 },
 "nbformat": 4,
 "nbformat_minor": 2
}
